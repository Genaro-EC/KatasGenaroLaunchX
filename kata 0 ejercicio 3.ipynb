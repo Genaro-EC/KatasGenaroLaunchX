{
 "cells": [
  {
   "cell_type": "code",
   "execution_count": 3,
   "metadata": {},
   "outputs": [
    {
     "name": "stdout",
     "output_type": "stream",
     "text": [
      "calculadora de tiempo\n",
      "Tiempo para alcanzar la velocidad deseada =  0.0\n"
     ]
    }
   ],
   "source": [
    "print(\"calculadora de tiempo\")\n",
    "endVelocity = input(\"velocidad final \")\n",
    "startVelocity = input(\"velocidad inicial \")\n",
    "acceleration = 9.8\n",
    "\n",
    "time = (int (endVelocity) - int (startVelocity)) / acceleration\n",
    "print(\"Tiempo para alcanzar la velocidad deseada = \", time)"
   ]
  }
 ],
 "metadata": {
  "interpreter": {
   "hash": "8b474bc55892f6ad1513399206435c19a1fd17e2389888cdd25aaa2b5e16ed99"
  },
  "kernelspec": {
   "display_name": "Python 3.10.2 64-bit (windows store)",
   "language": "python",
   "name": "python3"
  },
  "language_info": {
   "codemirror_mode": {
    "name": "ipython",
    "version": 3
   },
   "file_extension": ".py",
   "mimetype": "text/x-python",
   "name": "python",
   "nbconvert_exporter": "python",
   "pygments_lexer": "ipython3",
   "version": "3.10.2"
  },
  "orig_nbformat": 4
 },
 "nbformat": 4,
 "nbformat_minor": 2
}
